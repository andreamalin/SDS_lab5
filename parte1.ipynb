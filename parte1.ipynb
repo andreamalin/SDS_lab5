{
 "cells": [
  {
   "cell_type": "code",
   "execution_count": 1,
   "metadata": {},
   "outputs": [
    {
     "name": "stderr",
     "output_type": "stream",
     "text": [
      "WARNING: WinPcap is now deprecated (not maintained). Please use Npcap instead\n"
     ]
    }
   ],
   "source": [
    "from scapy.all import *\n",
    "import pandas as pd\n",
    "import matplotlib.pyplot as plt"
   ]
  },
  {
   "attachments": {},
   "cell_type": "markdown",
   "metadata": {},
   "source": [
    "### Inciso 1"
   ]
  },
  {
   "cell_type": "code",
   "execution_count": 2,
   "metadata": {},
   "outputs": [],
   "source": [
    "captured_packets = sniff(count=10)"
   ]
  },
  {
   "attachments": {},
   "cell_type": "markdown",
   "metadata": {},
   "source": [
    "### Inciso 2"
   ]
  },
  {
   "cell_type": "code",
   "execution_count": 43,
   "metadata": {},
   "outputs": [],
   "source": [
    "# open a PCAP file\n",
    "pcap_packets = rdpcap('analisis_paquetes.pcap')"
   ]
  },
  {
   "attachments": {},
   "cell_type": "markdown",
   "metadata": {},
   "source": [
    "### Inciso 3"
   ]
  },
  {
   "cell_type": "code",
   "execution_count": 44,
   "metadata": {},
   "outputs": [],
   "source": [
    "packets = captured_packets + pcap_packets  "
   ]
  },
  {
   "cell_type": "code",
   "execution_count": 45,
   "metadata": {},
   "outputs": [],
   "source": [
    "def extract_needed_info(packets):\n",
    "    packet_info = []\n",
    "\n",
    "    for pkt in packets:\n",
    "        info = {}\n",
    "\n",
    "        info['src address'] = pkt[IP].src\n",
    "        info['dst address'] = pkt[IP].dst\n",
    "        if pkt.haslayer(TCP):\n",
    "            info['src port'] = pkt[TCP].sport\n",
    "            info['dst port'] = pkt[TCP].dport\n",
    "            info['payload len'] = len(pkt[TCP].payload)\n",
    "        elif pkt.haslayer(UDP):\n",
    "            info['src port'] = pkt[UDP].sport\n",
    "            info['dst port'] = pkt[UDP].dport\n",
    "            info['payload len'] = len(pkt[UDP].payload)\n",
    "\n",
    "        packet_info.append(info)\n",
    "\n",
    "    return packet_info"
   ]
  },
  {
   "cell_type": "code",
   "execution_count": 46,
   "metadata": {},
   "outputs": [
    {
     "data": {
      "text/html": [
       "<div>\n",
       "<style scoped>\n",
       "    .dataframe tbody tr th:only-of-type {\n",
       "        vertical-align: middle;\n",
       "    }\n",
       "\n",
       "    .dataframe tbody tr th {\n",
       "        vertical-align: top;\n",
       "    }\n",
       "\n",
       "    .dataframe thead th {\n",
       "        text-align: right;\n",
       "    }\n",
       "</style>\n",
       "<table border=\"1\" class=\"dataframe\">\n",
       "  <thead>\n",
       "    <tr style=\"text-align: right;\">\n",
       "      <th></th>\n",
       "      <th>src address</th>\n",
       "      <th>dst address</th>\n",
       "      <th>src port</th>\n",
       "      <th>dst port</th>\n",
       "      <th>payload len</th>\n",
       "    </tr>\n",
       "  </thead>\n",
       "  <tbody>\n",
       "    <tr>\n",
       "      <th>0</th>\n",
       "      <td>192.168.39.127</td>\n",
       "      <td>206.247.56.5</td>\n",
       "      <td>55755</td>\n",
       "      <td>8801</td>\n",
       "      <td>27</td>\n",
       "    </tr>\n",
       "    <tr>\n",
       "      <th>1</th>\n",
       "      <td>206.247.56.5</td>\n",
       "      <td>192.168.39.127</td>\n",
       "      <td>8801</td>\n",
       "      <td>55754</td>\n",
       "      <td>82</td>\n",
       "    </tr>\n",
       "    <tr>\n",
       "      <th>2</th>\n",
       "      <td>206.247.56.5</td>\n",
       "      <td>192.168.39.127</td>\n",
       "      <td>8801</td>\n",
       "      <td>55754</td>\n",
       "      <td>251</td>\n",
       "    </tr>\n",
       "    <tr>\n",
       "      <th>3</th>\n",
       "      <td>206.247.56.5</td>\n",
       "      <td>192.168.39.127</td>\n",
       "      <td>8801</td>\n",
       "      <td>55754</td>\n",
       "      <td>81</td>\n",
       "    </tr>\n",
       "    <tr>\n",
       "      <th>4</th>\n",
       "      <td>206.247.56.5</td>\n",
       "      <td>192.168.39.127</td>\n",
       "      <td>8801</td>\n",
       "      <td>55754</td>\n",
       "      <td>268</td>\n",
       "    </tr>\n",
       "  </tbody>\n",
       "</table>\n",
       "</div>"
      ],
      "text/plain": [
       "      src address     dst address  src port  dst port  payload len\n",
       "0  192.168.39.127    206.247.56.5     55755      8801           27\n",
       "1    206.247.56.5  192.168.39.127      8801     55754           82\n",
       "2    206.247.56.5  192.168.39.127      8801     55754          251\n",
       "3    206.247.56.5  192.168.39.127      8801     55754           81\n",
       "4    206.247.56.5  192.168.39.127      8801     55754          268"
      ]
     },
     "execution_count": 46,
     "metadata": {},
     "output_type": "execute_result"
    }
   ],
   "source": [
    "df = pd.DataFrame(extract_needed_info(packets))\n",
    "df.head()"
   ]
  },
  {
   "attachments": {},
   "cell_type": "markdown",
   "metadata": {},
   "source": [
    "### Inciso 5"
   ]
  },
  {
   "cell_type": "code",
   "execution_count": 47,
   "metadata": {},
   "outputs": [
    {
     "name": "stdout",
     "output_type": "stream",
     "text": [
      "Src address mas utilizada: 10.1.10.53\n"
     ]
    }
   ],
   "source": [
    "most_frequent_src_address = df[\"src address\"].value_counts().idxmax()\n",
    "print(\"Src address mas utilizada:\", most_frequent_src_address)"
   ]
  },
  {
   "cell_type": "code",
   "execution_count": 48,
   "metadata": {},
   "outputs": [
    {
     "name": "stdout",
     "output_type": "stream",
     "text": [
      "Dst address más utilizada: 10.1.10.53\n"
     ]
    }
   ],
   "source": [
    "most_frequent_dst_address = df[\"dst address\"].value_counts().idxmax()\n",
    "print(\"Dst address más utilizada:\", most_frequent_dst_address)"
   ]
  },
  {
   "cell_type": "code",
   "execution_count": 49,
   "metadata": {},
   "outputs": [
    {
     "name": "stdout",
     "output_type": "stream",
     "text": [
      "IPs a las que se comunica:  ['84.54.22.33' '75.75.75.75']\n",
      "Puertos destinos a las que se comunica:  [53]\n"
     ]
    }
   ],
   "source": [
    "filtered_df = df[df[\"src address\"] == most_frequent_src_address]\n",
    "\n",
    "print(\"IPs a las que se comunica: \", filtered_df[\"dst address\"].unique())\n",
    "print(\"Puertos destinos a las que se comunica: \", filtered_df[\"dst port\"].unique())"
   ]
  },
  {
   "cell_type": "code",
   "execution_count": 50,
   "metadata": {},
   "outputs": [
    {
     "name": "stdout",
     "output_type": "stream",
     "text": [
      "Puertos origen a las que se comunica:  [53]\n"
     ]
    }
   ],
   "source": [
    "filtered_df = df[df[\"dst address\"] == most_frequent_src_address]\n",
    "\n",
    "print(\"Puertos origen a las que se comunica: \", filtered_df[\"src port\"].unique())"
   ]
  },
  {
   "attachments": {},
   "cell_type": "markdown",
   "metadata": {},
   "source": [
    "#### Indique el propósito de los puertos que más aparece en los incisos d y e\n",
    "El DNS (encargado de cambiar el nombre de los dominios a uno legible) hace uso del puerto 53 tanto en UDP como en TCP. El DNS retorna la dirección IP correspondiente y se establece la conexión cliente-servidor."
   ]
  },
  {
   "attachments": {},
   "cell_type": "markdown",
   "metadata": {},
   "source": [
    "### Inciso 6"
   ]
  },
  {
   "attachments": {},
   "cell_type": "markdown",
   "metadata": {},
   "source": [
    "Muestre una gráfica 2D, en el eje Y las IPs origen, y en el eje X la suma de los payloads\n",
    "enviados de dichas direcciones"
   ]
  },
  {
   "cell_type": "code",
   "execution_count": 51,
   "metadata": {},
   "outputs": [
    {
     "data": {
      "text/plain": [
       "Text(0, 0.5, 'IPs origen')"
      ]
     },
     "execution_count": 51,
     "metadata": {},
     "output_type": "execute_result"
    },
    {
     "data": {
      "image/png": "[encoded data removed]",
      "text/plain": [
       "<Figure size 1440x216 with 1 Axes>"
      ]
     },
     "metadata": {
      "needs_background": "light"
     },
     "output_type": "display_data"
    }
   ],
   "source": [
    "plt.rcParams[\"figure.figsize\"] = (20,3)\n",
    "\n",
    "grouped = df.groupby(['src address']).sum()\n",
    "\n",
    "plt.scatter(grouped['payload len'], grouped.index)\n",
    "plt.xlabel('Suma de los payloads')\n",
    "plt.ylabel('IPs origen')"
   ]
  },
  {
   "attachments": {},
   "cell_type": "markdown",
   "metadata": {},
   "source": [
    "Muestre una gráfica 2D, en el eje Y las IPs destino, y en el eje X la suma de los payloads\n",
    "recibidos en dichas direcciones."
   ]
  },
  {
   "cell_type": "code",
   "execution_count": 52,
   "metadata": {},
   "outputs": [
    {
     "data": {
      "text/plain": [
       "Text(0, 0.5, 'IPs destino')"
      ]
     },
     "execution_count": 52,
     "metadata": {},
     "output_type": "execute_result"
    },
    {
     "data": {
      "image/png": "[encoded data removed]",
      "text/plain": [
       "<Figure size 1440x216 with 1 Axes>"
      ]
     },
     "metadata": {
      "needs_background": "light"
     },
     "output_type": "display_data"
    }
   ],
   "source": [
    "grouped = df.groupby(['dst address']).sum()\n",
    "\n",
    "plt.scatter(grouped['payload len'], grouped.index)\n",
    "plt.xlabel('Suma de los payloads')\n",
    "plt.ylabel('IPs destino')"
   ]
  },
  {
   "attachments": {},
   "cell_type": "markdown",
   "metadata": {},
   "source": [
    "Muestre una gráfica 2D, en el eje Y los puertos origen, y en el eje X la suma de los\n",
    "payloads enviados de dichos puertos."
   ]
  },
  {
   "cell_type": "code",
   "execution_count": 53,
   "metadata": {},
   "outputs": [
    {
     "data": {
      "text/plain": [
       "Text(0, 0.5, 'Puerto origen')"
      ]
     },
     "execution_count": 53,
     "metadata": {},
     "output_type": "execute_result"
    },
    {
     "data": {
      "image/png": "[encoded data removed]",
      "text/plain": [
       "<Figure size 1440x216 with 1 Axes>"
      ]
     },
     "metadata": {
      "needs_background": "light"
     },
     "output_type": "display_data"
    }
   ],
   "source": [
    "grouped = df.groupby('src port').sum()\n",
    "\n",
    "plt.scatter(grouped['payload len'], grouped.index)\n",
    "plt.xlabel('Suma de los payloads')\n",
    "plt.ylabel('Puerto origen')"
   ]
  },
  {
   "attachments": {},
   "cell_type": "markdown",
   "metadata": {},
   "source": [
    "Muestre una gráfica 2D, en el eje Y los puertos destino, y en el eje X la suma de los payloads recibidos en dichos puertos."
   ]
  },
  {
   "cell_type": "code",
   "execution_count": 54,
   "metadata": {},
   "outputs": [
    {
     "data": {
      "text/plain": [
       "Text(0, 0.5, 'Puertos destino')"
      ]
     },
     "execution_count": 54,
     "metadata": {},
     "output_type": "execute_result"
    },
    {
     "data": {
      "image/png": "[encoded data removed]",
      "text/plain": [
       "<Figure size 1440x216 with 1 Axes>"
      ]
     },
     "metadata": {
      "needs_background": "light"
     },
     "output_type": "display_data"
    }
   ],
   "source": [
    "grouped = df.groupby('dst port').sum()\n",
    "\n",
    "plt.scatter(grouped['payload len'], grouped.index)\n",
    "plt.xlabel('Suma de los payloads')\n",
    "plt.ylabel('Puertos destino')"
   ]
  },
  {
   "attachments": {},
   "cell_type": "markdown",
   "metadata": {},
   "source": [
    "### Inciso 7"
   ]
  },
  {
   "cell_type": "code",
   "execution_count": 55,
   "metadata": {},
   "outputs": [
    {
     "data": {
      "text/plain": [
       "31"
      ]
     },
     "execution_count": 55,
     "metadata": {},
     "output_type": "execute_result"
    }
   ],
   "source": [
    "filtered_df = df[df[\"src address\"] == most_frequent_src_address]\n",
    "len(filtered_df)"
   ]
  },
  {
   "cell_type": "code",
   "execution_count": 56,
   "metadata": {},
   "outputs": [
    {
     "data": {
      "text/plain": [
       "1023"
      ]
     },
     "execution_count": 56,
     "metadata": {},
     "output_type": "execute_result"
    }
   ],
   "source": [
    "payload_filter = filtered_df['payload len'].unique()\n",
    "max(payload_filter)"
   ]
  },
  {
   "cell_type": "code",
   "execution_count": 57,
   "metadata": {},
   "outputs": [
    {
     "data": {
      "text/html": [
       "<div>\n",
       "<style scoped>\n",
       "    .dataframe tbody tr th:only-of-type {\n",
       "        vertical-align: middle;\n",
       "    }\n",
       "\n",
       "    .dataframe tbody tr th {\n",
       "        vertical-align: top;\n",
       "    }\n",
       "\n",
       "    .dataframe thead th {\n",
       "        text-align: right;\n",
       "    }\n",
       "</style>\n",
       "<table border=\"1\" class=\"dataframe\">\n",
       "  <thead>\n",
       "    <tr style=\"text-align: right;\">\n",
       "      <th></th>\n",
       "      <th>src address</th>\n",
       "      <th>dst address</th>\n",
       "      <th>src port</th>\n",
       "      <th>dst port</th>\n",
       "      <th>payload len</th>\n",
       "    </tr>\n",
       "  </thead>\n",
       "  <tbody>\n",
       "    <tr>\n",
       "      <th>30</th>\n",
       "      <td>10.1.10.53</td>\n",
       "      <td>84.54.22.33</td>\n",
       "      <td>53</td>\n",
       "      <td>53</td>\n",
       "      <td>1023</td>\n",
       "    </tr>\n",
       "  </tbody>\n",
       "</table>\n",
       "</div>"
      ],
      "text/plain": [
       "   src address  dst address  src port  dst port  payload len\n",
       "30  10.1.10.53  84.54.22.33        53        53         1023"
      ]
     },
     "execution_count": 57,
     "metadata": {},
     "output_type": "execute_result"
    }
   ],
   "source": [
    "filtered_df[filtered_df[\"payload len\"] == max(payload_filter)]"
   ]
  },
  {
   "cell_type": "code",
   "execution_count": 85,
   "metadata": {},
   "outputs": [],
   "source": [
    "array_max_payload = None\n",
    "\n",
    "\n",
    "for pkt in pcap_packets:\n",
    "        if pkt.haslayer(TCP):\n",
    "            if  array_max_payload == None and len(pkt[TCP].payload) == max(payload_filter):\n",
    "                array_max_payload = pkt[Raw].load\n",
    "        elif pkt.haslayer(UDP):\n",
    "            if array_max_payload == None and len(pkt[UDP].payload) == max(payload_filter):\n",
    "                array_max_payload = pkt[Raw].load"
   ]
  },
  {
   "attachments": {},
   "cell_type": "markdown",
   "metadata": {},
   "source": [
    "### Max payload"
   ]
  },
  {
   "cell_type": "code",
   "execution_count": 88,
   "metadata": {},
   "outputs": [
    {
     "data": {
      "text/plain": [
       "b'\\xef\\xbf\\xbd\\xef\\xbf\\xbd\\xef\\xbf\\xbd<>}\\xef\\xbf\\xbd\\xef\\xbf\\xbd\\xef\\xbf\\xbd%\\xef\\xbf\\xbd\\xef\\xbf\\xbdR\\xef\\xbf\\xbdA\\x08\\xef\\xbf\\xbd\\xef\\xbf\\xbdt\\xef\\xbf\\xbd\\xef\\xbf\\xbd\\xef\\xbf\\xbd\\\\\\x07@c\\xef\\xbf\\xbd-\\xef\\xbf\\xbdG\\xef\\xbf\\xbd9\\xef\\xbf\\xbdu9\\xef\\xbf\\xbd\\xef\\xbf\\xbd\\xef\\xbf\\xbdE%wq\\xef\\xbf\\xbd\\xef\\xbf\\xbd\\x0f\\x0e\\xef\\xbf\\xbd\\xef\\xbf\\xbdo\\xef\\xbf\\xbd\\xef\\xbf\\xbdc\\xef\\xbf\\xbd.\\xef\\xbf\\xbd8\\xef\\xbf\\xbd\\xef\\xbf\\xbd\\xef\\xbf\\xbdg\\xef\\xbf\\xbd\\xef\\xbf\\xbd\\xef\\xbf\\xbd\\n!\\xef\\xbf\\xbd\\xef\\xbf\\xbd.\\xef\\xbf\\xbd|\\xef\\xbf\\xbd\\xef\\xbf\\xbd\\xef\\xbf\\xbd\\x04\\xef\\xbf\\xbdp\\xef\\xbf\\xbd&:\\xef\\xbf\\xbdb=\\x16\\x0f\\x14c\\xef\\xbf\\xbd\\xef\\xbf\\xbdd\\xef\\xbf\\xbd<\\xef\\xbf\\xbd\\xef\\xbf\\xbdW\\xef\\xbf\\xbd\\x08\\x1b\\xe5\\x96\\x8eM\\x1e\\xef\\xbf\\xbd\\xef\\xbf\\xbdR\\xde\\x97\\xef\\xbf\\xbd\\xef\\xbf\\xbd\\\\2\\xe9\\xa0\\x8bB\\xef\\xbf\\xbd\\xef\\xbf\\xbd\\xef\\xbf\\xbd\\xef\\xbf\\xbd\\xef\\xbf\\xbd^\"+#m>r\\x0cR\\x16\\x08)\\x1f(,\\xef\\xbf\\xbd\\xef\\xbf\\xbd\\x1d9\\x07\\xef\\xbf\\xbds\\x1f\\xef\\xbf\\xbd\\r\\xef\\xbf\\xbd\\xef\\xbf\\xbdR\\xef\\xbf\\xbd\\'\\x18~\\xef\\xbf\\xbd\\xef\\xbf\\xbd\\x07\\xef\\xbf\\xbd\\xef\\xbf\\xbd^(:\\xef\\xbf\\xbd\\xd1\\xa5\\xef\\xbf\\xbdQ\\xef\\xbf\\xbd\\x19\\xef\\xbf\\xbdv:\"\\xef\\xbf\\xbd\\xef\\xbf\\xbdg\\xef\\xbf\\xbd\\xef\\xbf\\xbd\\xef\\xbf\\xbdtX\"\\xef\\xbf\\xbdYZG\\xef\\xbf\\xbd\\xef\\xbf\\xbd\\xef\\xbf\\xbd\\xef\\xbf\\xbdp\\xc7\\xa4\\xef\\xbf\\xbd\\x0br\\xef\\xbf\\xbd+\\xef\\xbf\\xbdF\\xef\\xbf\\xbd\\xef\\xbf\\xbdj\\x05\\xe2\\xb9\\xbdg\\xef\\xbf\\xbd\\xef\\xbf\\xbd\\x1cO1\\xef\\xbf\\xbd\\xef\\xbf\\xbd%\\xdd\\x87\\xde\\x8d\\xef\\xbf\\xbd\\xef\\xbf\\xbd\"LI\\xef\\xbf\\xbd\\xef\\xbf\\xbd$\\xef\\xbf\\xbd\\x07\\xef\\xbf\\xbd%\\xef\\xbf\\xbd.b]3!\\xef\\xbf\\xbdE\\xef\\xbf\\xbdk*\\x1d\\x06\\xef\\xbf\\xbd=\\x04\\xef\\xbf\\xbd@@\\xef\\xbf\\xbd\\x14\\xef\\xbf\\xbd\\xef\\xbf\\xbd}\\xef\\xbf\\xbd5\\xef\\xbf\\xbd`\\xef\\xbf\\xbd\\xef\\xbf\\xbd\\xef\\xbf\\xbd\\xef\\xbf\\xbd\\xef\\xbf\\xbd)\\xef\\xbf\\xbd\\xef\\xbf\\xbd\\xc9\\x9cd\\x11\\xef\\xbf\\xbd\\xef\\xbf\\xbd\\x14=\\xd5\\xab\\x162\\xef\\xbf\\xbdc\\xc8\\xb0\\xef\\xbf\\xbd\\x07g\\x15\\xef\\xbf\\xbd\\xef\\xbf\\xbd\\xef\\xbf\\xbdK&\\x11\\xef\\xbf\\xbdb\\xef\\xbf\\xbd\\xef\\xbf\\xbd\\x02\\xef\\xbf\\xbd\\xef\\xbf\\xbd\\xef\\xbf\\xbd\\xef\\xbf\\xbd<@3\\x11\\xef\\xbf\\xbdTD;\\xef\\xbf\\xbd\\xef\\xbf\\xbd%u\\xef\\xbf\\xbdL\\xef\\xbf\\xbd.,.}\\xef\\xbf\\xbdK\\xef\\xbf\\xbd\\xef\\xbf\\xbd\\\\}\\xef\\xbf\\xbd\\xef\\xbf\\xbdm1\\xef\\xbf\\xbd\\xef\\xbf\\xbdEj\\xef\\xbf\\xbd\\xef\\xbf\\xbd\\x15\\xef\\xbf\\xbd]\\xef\\xbf\\xbd\\xef\\xbf\\xbd\\xef\\xbf\\xbd\\xef\\xbf\\xbd\\xef\\xbf\\xbd\\xef\\xbf\\xbd\\xef\\xbf\\xbd\\r\\xcd\\xa1\\xef\\xbf\\xbdL\\xef\\xbf\\xbd:\\xdf\\xb4\\xef\\xbf\\xbdb\\xef\\xbf\\xbd\\xef\\xbf\\xbd;\\xef\\xbf\\xbd\\xef\\xbf\\xbd1\\xef\\xbf\\xbdv\\xef\\xbf\\xbd\\x10\\xef\\xbf\\xbdVR\\xef\\xbf\\xbd\\xef\\xbf\\xbd\"kq\\xef\\xbf\\xbd\\xef\\xbf\\xbd\\xef\\xbf\\xbd\\x03\\xef\\xbf\\xbd\\xc7\\xa77\\x03\\xef\\xbf\\xbd\\xef\\xbf\\xbd\\xef\\xbf\\xbd5\\xef\\xbf\\xbd0)\\xef\\xbf\\xbd\\xef\\xbf\\xbd\\xef\\xbf\\xbd\\xef\\xbf\\xbd\\x1a~\\xef\\xbf\\xbd\\xef\\xbf\\xbd\\x1f\\x0f7\\xc4\\xbe3v\\xef\\xbf\\xbd\\xef\\xbf\\xbd\\xef\\xbf\\xbdC\\xef\\xbf\\xbd\\x1c}j\\xef\\xbf\\xbd&\\xef\\xbf\\xbdB\\xef\\xbf\\xbdy\\xef\\xbf\\xbd/\\x00BA\\x7f\\xef\\xbf\\xbd\\xef\\xbf\\xbd$\\xef\\xbf\\xbd\\xef\\xbf\\xbd\\xef\\xbf\\xbd\\x10XjSI\\xef\\xbf\\xbd\\xef\\xbf\\xbd\\xef\\xbf\\xbd\\xef\\xbf\\xbdS\\xef\\xbf\\xbd\\\\t\\xef\\xbf\\xbd{\\xef\\xbf\\xbdP\\xef\\xbf\\xbdi\\x02\\xef\\xbf\\xbd\\xe7\\x84\\x80\\xef\\xbf\\xbdB\\xef\\xbf\\xbd\\xef\\xbf\\xbd\\xef\\xbf\\xbd\\xef\\xbf\\xbd\\xcf\\xb1\\xef\\xbf\\xbd\\x1eQ\\xef\\xbf\\xbd~\\xef\\xbf\\xbdq\\xef\\xbf\\xbd\\xef\\xbf\\xbd\\xef\\xbf\\xbd\\x03\\x07\\xef\\xbf\\xbdk\\xc6\\xb1\\xef\\xbf\\xbd\\xef\\xbf\\xbdK/\\xef\\xbf\\xbd4\\xef\\xbf\\xbd)R*\\x15\\xef\\xbf\\xbdc\\xef\\xbf\\xbd\\xef\\xbf\\xbd\\xef\\xbf\\xbd\\xef\\xbf\\xbd\\xef\\xbf\\xbd\\xef\\xbf\\xbd\\xef\\xbf\\xbdU\\xef\\xbf\\xbd\\xef\\xbf\\xbd\\xd2\\x87\\x08\\xef\\xbf\\xbd\"\\xef\\xbf\\xbd\\xef\\xbf\\xbd\\x14\\xef\\xbf\\xbd\\x18\\xef\\xbf\\xbd\\xef\\xbf\\xbd\\xef\\xbf\\xbd~\\x16\\xef\\xbf\\xbd\\xef\\xbf\\xbdC3\\xef\\xbf\\xbd'"
      ]
     },
     "execution_count": 88,
     "metadata": {},
     "output_type": "execute_result"
    }
   ],
   "source": [
    "array_max_payload"
   ]
  },
  {
   "cell_type": "code",
   "execution_count": 89,
   "metadata": {},
   "outputs": [
    {
     "data": {
      "text/plain": [
       "'���<>}���%��R�A\\x08��t���\\\\\\x07@c�-�G�9�u9���E%wq��\\x0f\\x0e��o��c�.�8���g���\\n!��.�|���\\x04�p�&:�b=\\x16\\x0f\\x14c��d�<��W�\\x08\\x1b喎M\\x1e��Rޗ��\\\\2頋B�����^\"+#m>r\\x0cR\\x16\\x08)\\x1f(,��\\x1d9\\x07�s\\x1f�\\r��R�\\'\\x18~��\\x07��^(:�ѥ�Q�\\x19�v:\"��g���tX\"�YZG����pǤ�\\x0br�+�F��j\\x05\\u2e7dg��\\x1cO1��%݇ލ��\"LI��$�\\x07�%�.b]3!�E�k*\\x1d\\x06�=\\x04�@@�\\x14��}�5�`�����)��ɜd\\x11��\\x14=ի\\x162�cȰ�\\x07g\\x15���K&\\x11�b��\\x02����<@3\\x11�TD;��%u�L�.,.}�K��\\\\}��m1��Ej��\\x15�]�������\\r͡�L�:ߴ�b��;��1�v�\\x10�VR��\"kq���\\x03�ǧ7\\x03���5�0)����\\x1a~��\\x1f\\x0f7ľ3v���C�\\x1c}j�&�B�y�/\\x00BA\\x7f��$���\\x10XjSI����S�\\\\t�{�P�i\\x02�焀�B����ϱ�\\x1eQ�~�q���\\x03\\x07�kƱ��K/�4�)R*\\x15�c�������U��҇\\x08�\"��\\x14�\\x18���~\\x16��C3�'"
      ]
     },
     "execution_count": 89,
     "metadata": {},
     "output_type": "execute_result"
    }
   ],
   "source": [
    "array_max_payload.decode('utf-8')"
   ]
  },
  {
   "attachments": {},
   "cell_type": "markdown",
   "metadata": {},
   "source": [
    "### ¿Encuentra algún dato que no haga sentido que se envié a través del puerto explicado en el inciso f?\n",
    "No se están mandando solo bytes sino además caracteres como lo es <>}"
   ]
  }
 ],
 "metadata": {
  "kernelspec": {
   "display_name": "Python 3",
   "language": "python",
   "name": "python3"
  },
  "language_info": {
   "codemirror_mode": {
    "name": "ipython",
    "version": 3
   },
   "file_extension": ".py",
   "mimetype": "text/x-python",
   "name": "python",
   "nbconvert_exporter": "python",
   "pygments_lexer": "ipython3",
   "version": "3.7.0"
  },
  "orig_nbformat": 4
 },
 "nbformat": 4,
 "nbformat_minor": 2
}
